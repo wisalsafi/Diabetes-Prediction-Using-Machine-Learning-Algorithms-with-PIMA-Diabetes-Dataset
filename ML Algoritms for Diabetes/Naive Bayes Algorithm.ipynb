{
 "cells": [
  {
   "cell_type": "code",
   "execution_count": 22,
   "id": "a0637df1",
   "metadata": {},
   "outputs": [],
   "source": [
    "import pandas as pd\n",
    "import numpy as np\n",
    "from sklearn.model_selection import train_test_split\n",
    "from sklearn.naive_bayes import GaussianNB\n",
    "from sklearn.metrics import accuracy_score, confusion_matrix, classification_report\n",
    "from sklearn.metrics import mean_absolute_error, mean_squared_error\n",
    "from sklearn.metrics import matthews_corrcoef, roc_curve, precision_recall_curve, auc\n",
    "import matplotlib.pyplot as plt"
   ]
  },
  {
   "cell_type": "code",
   "execution_count": 23,
   "id": "c279735a",
   "metadata": {},
   "outputs": [
    {
     "data": {
      "text/html": [
       "<div>\n",
       "<style scoped>\n",
       "    .dataframe tbody tr th:only-of-type {\n",
       "        vertical-align: middle;\n",
       "    }\n",
       "\n",
       "    .dataframe tbody tr th {\n",
       "        vertical-align: top;\n",
       "    }\n",
       "\n",
       "    .dataframe thead th {\n",
       "        text-align: right;\n",
       "    }\n",
       "</style>\n",
       "<table border=\"1\" class=\"dataframe\">\n",
       "  <thead>\n",
       "    <tr style=\"text-align: right;\">\n",
       "      <th></th>\n",
       "      <th>Pregnancies</th>\n",
       "      <th>Glucose</th>\n",
       "      <th>BloodPressure</th>\n",
       "      <th>SkinThickness</th>\n",
       "      <th>Insulin</th>\n",
       "      <th>BMI</th>\n",
       "      <th>DiabetesPedigreeFunction</th>\n",
       "      <th>Age</th>\n",
       "      <th>Outcome</th>\n",
       "    </tr>\n",
       "  </thead>\n",
       "  <tbody>\n",
       "    <tr>\n",
       "      <th>0</th>\n",
       "      <td>6</td>\n",
       "      <td>148</td>\n",
       "      <td>72</td>\n",
       "      <td>35</td>\n",
       "      <td>0</td>\n",
       "      <td>33.6</td>\n",
       "      <td>0.627</td>\n",
       "      <td>50</td>\n",
       "      <td>1</td>\n",
       "    </tr>\n",
       "    <tr>\n",
       "      <th>1</th>\n",
       "      <td>1</td>\n",
       "      <td>85</td>\n",
       "      <td>66</td>\n",
       "      <td>29</td>\n",
       "      <td>0</td>\n",
       "      <td>26.6</td>\n",
       "      <td>0.351</td>\n",
       "      <td>31</td>\n",
       "      <td>0</td>\n",
       "    </tr>\n",
       "    <tr>\n",
       "      <th>2</th>\n",
       "      <td>8</td>\n",
       "      <td>183</td>\n",
       "      <td>64</td>\n",
       "      <td>0</td>\n",
       "      <td>0</td>\n",
       "      <td>23.3</td>\n",
       "      <td>0.672</td>\n",
       "      <td>32</td>\n",
       "      <td>1</td>\n",
       "    </tr>\n",
       "    <tr>\n",
       "      <th>3</th>\n",
       "      <td>1</td>\n",
       "      <td>89</td>\n",
       "      <td>66</td>\n",
       "      <td>23</td>\n",
       "      <td>94</td>\n",
       "      <td>28.1</td>\n",
       "      <td>0.167</td>\n",
       "      <td>21</td>\n",
       "      <td>0</td>\n",
       "    </tr>\n",
       "    <tr>\n",
       "      <th>4</th>\n",
       "      <td>0</td>\n",
       "      <td>137</td>\n",
       "      <td>40</td>\n",
       "      <td>35</td>\n",
       "      <td>168</td>\n",
       "      <td>43.1</td>\n",
       "      <td>2.288</td>\n",
       "      <td>33</td>\n",
       "      <td>1</td>\n",
       "    </tr>\n",
       "  </tbody>\n",
       "</table>\n",
       "</div>"
      ],
      "text/plain": [
       "   Pregnancies  Glucose  BloodPressure  SkinThickness  Insulin   BMI  \\\n",
       "0            6      148             72             35        0  33.6   \n",
       "1            1       85             66             29        0  26.6   \n",
       "2            8      183             64              0        0  23.3   \n",
       "3            1       89             66             23       94  28.1   \n",
       "4            0      137             40             35      168  43.1   \n",
       "\n",
       "   DiabetesPedigreeFunction  Age  Outcome  \n",
       "0                     0.627   50        1  \n",
       "1                     0.351   31        0  \n",
       "2                     0.672   32        1  \n",
       "3                     0.167   21        0  \n",
       "4                     2.288   33        1  "
      ]
     },
     "execution_count": 23,
     "metadata": {},
     "output_type": "execute_result"
    }
   ],
   "source": [
    "# Load the dataset\n",
    "data = pd.read_csv('diabetes.csv')\n",
    "data.head()"
   ]
  },
  {
   "cell_type": "code",
   "execution_count": 24,
   "id": "f7b68354",
   "metadata": {},
   "outputs": [],
   "source": [
    "# Separate the features and target variable\n",
    "X = data.iloc[:, :-1]\n",
    "y = data.iloc[:, -1]"
   ]
  },
  {
   "cell_type": "code",
   "execution_count": 25,
   "id": "2ce55f97",
   "metadata": {},
   "outputs": [],
   "source": [
    "# Split the dataset into training and test sets\n",
    "X_train, X_test, y_train, y_test = train_test_split(X, y, test_size=0.3, random_state=30)"
   ]
  },
  {
   "cell_type": "code",
   "execution_count": 26,
   "id": "4e9ba474",
   "metadata": {},
   "outputs": [],
   "source": [
    "# Create a Naïve Bayes classifier\n",
    "nb_classifier = GaussianNB()\n",
    "\n",
    "# Train the classifier\n",
    "nb_classifier.fit(X_train, y_train)\n",
    "\n",
    "# Make predictions on the test set\n",
    "y_pred = nb_classifier.predict(X_test)"
   ]
  },
  {
   "cell_type": "code",
   "execution_count": 27,
   "id": "d92e0261",
   "metadata": {},
   "outputs": [
    {
     "name": "stdout",
     "output_type": "stream",
     "text": [
      "Accuracy: 0.7662337662337663\n",
      "Confusion Matrix:\n",
      "[[133  26]\n",
      " [ 28  44]]\n"
     ]
    }
   ],
   "source": [
    "# Evaluate the model\n",
    "accuracy = accuracy_score(y_test, y_pred)\n",
    "print(f\"Accuracy: {accuracy}\")\n",
    "\n",
    "# Create a confusion matrix\n",
    "conf_matrix = confusion_matrix(y_test, y_pred)\n",
    "print(f\"Confusion Matrix:\\n{conf_matrix}\")"
   ]
  },
  {
   "cell_type": "code",
   "execution_count": 28,
   "id": "ee417041",
   "metadata": {},
   "outputs": [
    {
     "name": "stdout",
     "output_type": "stream",
     "text": [
      "Scaled Confusion Matrix (230 instances):\n",
      "[[132.42424242  25.88744589]\n",
      " [ 27.87878788  43.80952381]]\n"
     ]
    }
   ],
   "source": [
    "# Assuming cm is the original confusion matrix with a total of 231 instances\n",
    "# Calculate the scaling factor\n",
    "scaling_factor = 230 / np.sum(conf_matrix)\n",
    "\n",
    "# Scale down the values in the confusion matrix\n",
    "conf_matrix = conf_matrix * scaling_factor\n",
    "\n",
    "# Print the scaled confusion matrix\n",
    "print(\"Scaled Confusion Matrix (230 instances):\")\n",
    "print(conf_matrix)"
   ]
  },
  {
   "cell_type": "code",
   "execution_count": 29,
   "id": "ffc1ccd2",
   "metadata": {},
   "outputs": [
    {
     "name": "stdout",
     "output_type": "stream",
     "text": [
      "Accuracy: 0.7662337662337663\n",
      "Accuracy: 76.62337662337663\n"
     ]
    }
   ],
   "source": [
    "# Calculate the accuracy of the model\n",
    "accuracy = accuracy_score(y_test, y_pred)\n",
    "print(\"Accuracy:\", accuracy)\n",
    "print(\"Accuracy:\", accuracy*100)"
   ]
  },
  {
   "cell_type": "code",
   "execution_count": 30,
   "id": "29ee2099",
   "metadata": {},
   "outputs": [
    {
     "name": "stdout",
     "output_type": "stream",
     "text": [
      "Training Accuracy: 0.76\n",
      "Test Accuracy: 0.77\n"
     ]
    }
   ],
   "source": [
    "acc_train = accuracy_score(y_train, nb_classifier.predict(X_train))\n",
    "acc_test = nb_classifier.score(X_test, y_test)\n",
    "\n",
    "print(\"Training Accuracy:\", round(acc_train, 2))\n",
    "print(\"Test Accuracy:\", round(acc_test, 2))"
   ]
  },
  {
   "cell_type": "code",
   "execution_count": 31,
   "id": "d2cb35a1",
   "metadata": {},
   "outputs": [
    {
     "name": "stdout",
     "output_type": "stream",
     "text": [
      "False Positive Rate (FPR): 0.16352201257861634\n",
      "False Negative Rate (FNR): 0.3888888888888889\n",
      "True Positive Rate (TPR): 0.6111111111111112\n",
      "True Negative Rate (TNR): 0.8364779874213837\n"
     ]
    }
   ],
   "source": [
    "# Assuming cm is the confusion matrix\n",
    "\n",
    "# Extract values from the confusion matrix\n",
    "TN, FP, FN, TP = conf_matrix.ravel()\n",
    "\n",
    "# Calculate error rates\n",
    "FPR = FP / (FP + TN)\n",
    "FNR = FN / (FN + TP)\n",
    "\n",
    "# Print error rates\n",
    "print(\"False Positive Rate (FPR):\", FPR)\n",
    "print(\"False Negative Rate (FNR):\", FNR)\n",
    "\n",
    "# Calculate TPR (Sensitivity or Recall)\n",
    "TPR = TP / (TP + FN)\n",
    "\n",
    "# Calculate TNR (Specificity)\n",
    "TNR = TN / (TN + FP)\n",
    "\n",
    "# Print TPR and TNR\n",
    "print(\"True Positive Rate (TPR):\", TPR)\n",
    "print(\"True Negative Rate (TNR):\", TNR)"
   ]
  },
  {
   "cell_type": "code",
   "execution_count": 32,
   "id": "6be46cc1",
   "metadata": {},
   "outputs": [
    {
     "name": "stdout",
     "output_type": "stream",
     "text": [
      "              precision    recall  f1-score   support\n",
      "\n",
      "           0       0.83      0.84      0.83       159\n",
      "           1       0.63      0.61      0.62        72\n",
      "\n",
      "    accuracy                           0.77       231\n",
      "   macro avg       0.73      0.72      0.73       231\n",
      "weighted avg       0.76      0.77      0.77       231\n",
      "\n"
     ]
    }
   ],
   "source": [
    "print(classification_report(y_test, y_pred))"
   ]
  },
  {
   "cell_type": "code",
   "execution_count": 33,
   "id": "e2a91aff",
   "metadata": {},
   "outputs": [
    {
     "name": "stdout",
     "output_type": "stream",
     "text": [
      "MAE: 0.23376623376623376\n",
      "RMSE: 0.48349377841522817\n",
      "RAE: 0.0023584905660377353\n",
      "RRSE: 1.0\n"
     ]
    }
   ],
   "source": [
    "# Calculate MAE\n",
    "mae = mean_absolute_error(y_test, y_pred)\n",
    "print(\"MAE:\", mae)\n",
    "\n",
    "# Calculate RMSE\n",
    "mse = mean_squared_error(y_test, y_pred)\n",
    "rmse = mse ** 0.5\n",
    "print(\"RMSE:\", rmse)\n",
    "\n",
    "# Calculate RAE\n",
    "rae = mae / (abs(y_test - y_test.mean()).sum())\n",
    "print(\"RAE:\", rae)\n",
    "\n",
    "# Calculate RRSE\n",
    "rrse = (rmse ** 2) / (mse.sum())\n",
    "print(\"RRSE:\", rrse)"
   ]
  },
  {
   "cell_type": "code",
   "execution_count": 34,
   "id": "e390569e",
   "metadata": {},
   "outputs": [
    {
     "name": "stdout",
     "output_type": "stream",
     "text": [
      "MCC: 0.4511098942875126\n",
      "ROC AUC: 0.8200559049615653\n",
      "PRC AUC: 0.6618851486834826\n"
     ]
    }
   ],
   "source": [
    "# Predict probabilities for the test set\n",
    "y_pred_prob = nb_classifier.predict_proba(X_test)[:, 1]\n",
    "\n",
    "# Calculate MCC\n",
    "mcc = matthews_corrcoef(y_test, np.round(y_pred_prob))\n",
    "print(\"MCC:\", mcc)\n",
    "\n",
    "# Calculate ROC curve and AUC\n",
    "fpr, tpr, thresholds = roc_curve(y_test, y_pred_prob)\n",
    "roc_auc = auc(fpr, tpr)\n",
    "print(\"ROC AUC:\", roc_auc)\n",
    "\n",
    "# Calculate PRC curve and AUC\n",
    "precision, recall, thresholds = precision_recall_curve(y_test, y_pred_prob)\n",
    "prc_auc = auc(recall, precision)\n",
    "print(\"PRC AUC:\", prc_auc)"
   ]
  },
  {
   "cell_type": "code",
   "execution_count": 45,
   "id": "bdf7aca5",
   "metadata": {},
   "outputs": [
    {
     "data": {
      "image/png": "[encoded data removed]",
      "text/plain": [
       "<Figure size 432x288 with 1 Axes>"
      ]
     },
     "metadata": {
      "needs_background": "light"
     },
     "output_type": "display_data"
    }
   ],
   "source": [
    "# Plot ROC curve\n",
    "plt.figure()\n",
    "plt.plot(fpr, tpr, color='darkorange', lw=2, label='ROC curve (area = %0.2f)' % roc_auc)\n",
    "plt.plot([0, 1], [0, 1], color='navy', lw=2, linestyle='--')\n",
    "plt.xlim([0.0, 1.0])\n",
    "plt.ylim([0.0, 1.05])\n",
    "plt.xlabel('False Positive Rate')\n",
    "plt.ylabel('True Positive Rate')\n",
    "#plt.title('Receiver Operating Characteristic')\n",
    "plt.title('ROC Curve Using Naive Bayes')\n",
    "plt.legend(loc=\"lower right\")\n",
    "plt.savefig(\"Naive_bayes_ROC.jpg\")\n",
    "plt.show()"
   ]
  },
  {
   "cell_type": "code",
   "execution_count": 38,
   "id": "3005ab41",
   "metadata": {},
   "outputs": [
    {
     "data": {
      "image/png": "[encoded data removed]",
      "text/plain": [
       "<Figure size 432x288 with 1 Axes>"
      ]
     },
     "metadata": {
      "needs_background": "light"
     },
     "output_type": "display_data"
    }
   ],
   "source": [
    "# Plot PRC curve\n",
    "plt.figure()\n",
    "plt.plot(recall, precision, color='darkorange', lw=2, label='PRC curve (area = %0.2f)' % prc_auc)\n",
    "plt.xlim([0.0, 1.0])\n",
    "plt.ylim([0.0, 1.05])\n",
    "plt.xlabel('Recall')\n",
    "plt.ylabel('Precision')\n",
    "plt.title('Precision-Recall Curve')\n",
    "plt.legend(loc=\"lower right\")\n",
    "plt.show()"
   ]
  },
  {
   "cell_type": "code",
   "execution_count": 39,
   "id": "5e3aa8aa",
   "metadata": {},
   "outputs": [],
   "source": [
    "tn, fp, fn, tp = conf_matrix.ravel()\n",
    "tn0, fp0, fn0, tp0 = conf_matrix.ravel()  # Class 0\n",
    "tn1, fp1, fn1, tp1 = conf_matrix.ravel()[::-1]  # Class 1"
   ]
  },
  {
   "cell_type": "code",
   "execution_count": 40,
   "id": "78979884",
   "metadata": {},
   "outputs": [],
   "source": [
    "tp_rate0 = tp0 / (tp0 + fn0)\n",
    "fp_rate0 = fp0 / (fp0 + tn0)\n",
    "\n",
    "tp_rate1 = tp1 / (tp1 + fn1)\n",
    "fp_rate1 = fp1 / (fp1 + tn1)"
   ]
  },
  {
   "cell_type": "code",
   "execution_count": 41,
   "id": "e20d1dba",
   "metadata": {},
   "outputs": [
    {
     "name": "stdout",
     "output_type": "stream",
     "text": [
      "tp_rate0: 0.6111111111111112\n",
      "tp_rate1: 0.8364779874213837\n",
      "fp_rate0: 0.16352201257861634\n",
      "fp_rate1: 0.3888888888888889\n"
     ]
    }
   ],
   "source": [
    "print(\"tp_rate0:\", tp_rate0)\n",
    "print(\"tp_rate1:\", tp_rate1)\n",
    "\n",
    "print(\"fp_rate0:\", fp_rate0)\n",
    "print(\"fp_rate1:\", fp_rate1)"
   ]
  },
  {
   "cell_type": "code",
   "execution_count": 42,
   "id": "b20a4ea9",
   "metadata": {},
   "outputs": [],
   "source": [
    "weighted_tp = tp * 0.7\n",
    "weighted_fp = fp * 0.3"
   ]
  },
  {
   "cell_type": "code",
   "execution_count": 43,
   "id": "7e99f9a9",
   "metadata": {},
   "outputs": [
    {
     "name": "stdout",
     "output_type": "stream",
     "text": [
      "weighted_tp_rate: 0.7237945492662474\n",
      "weighted_fp_rate: 0.27620545073375263\n"
     ]
    }
   ],
   "source": [
    "weighted_tp_rate = (tp_rate0 + tp_rate1)/2\n",
    "print(\"weighted_tp_rate:\", weighted_tp_rate)\n",
    "\n",
    "weighted_fp_rate = (fp_rate0 + fp_rate1)/2\n",
    "print(\"weighted_fp_rate:\", weighted_fp_rate)"
   ]
  },
  {
   "cell_type": "code",
   "execution_count": 44,
   "id": "4f0d87dd",
   "metadata": {},
   "outputs": [
    {
     "name": "stdout",
     "output_type": "stream",
     "text": [
      "weighted_tp_rate: 0.5238095238095237\n",
      "weighted_fp_rate: 0.055397727272727265\n"
     ]
    }
   ],
   "source": [
    "weighted_tp_rate = weighted_tp / (weighted_tp + fn)\n",
    "weighted_fp_rate = weighted_fp / (weighted_fp + tn)\n",
    "\n",
    "print(\"weighted_tp_rate:\", weighted_tp_rate)\n",
    "print(\"weighted_fp_rate:\", weighted_fp_rate)"
   ]
  },
  {
   "cell_type": "code",
   "execution_count": null,
   "id": "749c15f5",
   "metadata": {},
   "outputs": [],
   "source": []
  },
  {
   "cell_type": "code",
   "execution_count": null,
   "id": "1a003e0d",
   "metadata": {},
   "outputs": [],
   "source": []
  },
  {
   "cell_type": "code",
   "execution_count": null,
   "id": "78ad790f",
   "metadata": {},
   "outputs": [],
   "source": []
  }
 ],
 "metadata": {
  "kernelspec": {
   "display_name": "Python 3 (ipykernel)",
   "language": "python",
   "name": "python3"
  },
  "language_info": {
   "codemirror_mode": {
    "name": "ipython",
    "version": 3
   },
   "file_extension": ".py",
   "mimetype": "text/x-python",
   "name": "python",
   "nbconvert_exporter": "python",
   "pygments_lexer": "ipython3",
   "version": "3.9.7"
  }
 },
 "nbformat": 4,
 "nbformat_minor": 5
}
