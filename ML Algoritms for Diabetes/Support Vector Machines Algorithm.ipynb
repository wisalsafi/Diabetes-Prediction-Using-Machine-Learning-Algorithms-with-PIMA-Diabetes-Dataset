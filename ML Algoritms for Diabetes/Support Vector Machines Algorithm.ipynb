{
 "cells": [
  {
   "cell_type": "code",
   "execution_count": 1,
   "id": "b67c0ac7",
   "metadata": {},
   "outputs": [],
   "source": [
    "import pandas as pd\n",
    "import numpy as np\n",
    "from sklearn.model_selection import train_test_split\n",
    "from sklearn.svm import SVC\n",
    "from sklearn.metrics import confusion_matrix\n",
    "from sklearn.metrics import accuracy_score, classification_report\n",
    "from sklearn.metrics import mean_absolute_error, mean_squared_error\n",
    "from sklearn.metrics import matthews_corrcoef, roc_curve, precision_recall_curve, auc\n",
    "import matplotlib.pyplot as plt"
   ]
  },
  {
   "cell_type": "code",
   "execution_count": 2,
   "id": "410a19c1",
   "metadata": {},
   "outputs": [
    {
     "data": {
      "text/html": [
       "<div>\n",
       "<style scoped>\n",
       "    .dataframe tbody tr th:only-of-type {\n",
       "        vertical-align: middle;\n",
       "    }\n",
       "\n",
       "    .dataframe tbody tr th {\n",
       "        vertical-align: top;\n",
       "    }\n",
       "\n",
       "    .dataframe thead th {\n",
       "        text-align: right;\n",
       "    }\n",
       "</style>\n",
       "<table border=\"1\" class=\"dataframe\">\n",
       "  <thead>\n",
       "    <tr style=\"text-align: right;\">\n",
       "      <th></th>\n",
       "      <th>Pregnancies</th>\n",
       "      <th>Glucose</th>\n",
       "      <th>BloodPressure</th>\n",
       "      <th>SkinThickness</th>\n",
       "      <th>Insulin</th>\n",
       "      <th>BMI</th>\n",
       "      <th>DiabetesPedigreeFunction</th>\n",
       "      <th>Age</th>\n",
       "      <th>Outcome</th>\n",
       "    </tr>\n",
       "  </thead>\n",
       "  <tbody>\n",
       "    <tr>\n",
       "      <th>0</th>\n",
       "      <td>6</td>\n",
       "      <td>148</td>\n",
       "      <td>72</td>\n",
       "      <td>35</td>\n",
       "      <td>0</td>\n",
       "      <td>33.6</td>\n",
       "      <td>0.627</td>\n",
       "      <td>50</td>\n",
       "      <td>1</td>\n",
       "    </tr>\n",
       "    <tr>\n",
       "      <th>1</th>\n",
       "      <td>1</td>\n",
       "      <td>85</td>\n",
       "      <td>66</td>\n",
       "      <td>29</td>\n",
       "      <td>0</td>\n",
       "      <td>26.6</td>\n",
       "      <td>0.351</td>\n",
       "      <td>31</td>\n",
       "      <td>0</td>\n",
       "    </tr>\n",
       "    <tr>\n",
       "      <th>2</th>\n",
       "      <td>8</td>\n",
       "      <td>183</td>\n",
       "      <td>64</td>\n",
       "      <td>0</td>\n",
       "      <td>0</td>\n",
       "      <td>23.3</td>\n",
       "      <td>0.672</td>\n",
       "      <td>32</td>\n",
       "      <td>1</td>\n",
       "    </tr>\n",
       "    <tr>\n",
       "      <th>3</th>\n",
       "      <td>1</td>\n",
       "      <td>89</td>\n",
       "      <td>66</td>\n",
       "      <td>23</td>\n",
       "      <td>94</td>\n",
       "      <td>28.1</td>\n",
       "      <td>0.167</td>\n",
       "      <td>21</td>\n",
       "      <td>0</td>\n",
       "    </tr>\n",
       "    <tr>\n",
       "      <th>4</th>\n",
       "      <td>0</td>\n",
       "      <td>137</td>\n",
       "      <td>40</td>\n",
       "      <td>35</td>\n",
       "      <td>168</td>\n",
       "      <td>43.1</td>\n",
       "      <td>2.288</td>\n",
       "      <td>33</td>\n",
       "      <td>1</td>\n",
       "    </tr>\n",
       "  </tbody>\n",
       "</table>\n",
       "</div>"
      ],
      "text/plain": [
       "   Pregnancies  Glucose  BloodPressure  SkinThickness  Insulin   BMI  \\\n",
       "0            6      148             72             35        0  33.6   \n",
       "1            1       85             66             29        0  26.6   \n",
       "2            8      183             64              0        0  23.3   \n",
       "3            1       89             66             23       94  28.1   \n",
       "4            0      137             40             35      168  43.1   \n",
       "\n",
       "   DiabetesPedigreeFunction  Age  Outcome  \n",
       "0                     0.627   50        1  \n",
       "1                     0.351   31        0  \n",
       "2                     0.672   32        1  \n",
       "3                     0.167   21        0  \n",
       "4                     2.288   33        1  "
      ]
     },
     "execution_count": 2,
     "metadata": {},
     "output_type": "execute_result"
    }
   ],
   "source": [
    "# Load the dataset\n",
    "data = pd.read_csv('diabetes.csv')  # Replace with the actual path to your dataset\n",
    "data.head()"
   ]
  },
  {
   "cell_type": "code",
   "execution_count": 3,
   "id": "c3ffd0e4",
   "metadata": {},
   "outputs": [],
   "source": [
    "# Split the dataset into features and target\n",
    "X = data.drop('Outcome', axis=1)\n",
    "y = data['Outcome']"
   ]
  },
  {
   "cell_type": "code",
   "execution_count": 4,
   "id": "2cd31f54",
   "metadata": {},
   "outputs": [],
   "source": [
    "# Split the data into training and testing sets\n",
    "X_train, X_test, y_train, y_test = train_test_split(X, y, test_size=0.3, random_state=30)"
   ]
  },
  {
   "cell_type": "code",
   "execution_count": 5,
   "id": "8f6a9fad",
   "metadata": {},
   "outputs": [],
   "source": [
    "# Create the SVM model\n",
    "svm_model = SVC(kernel='linear')\n",
    "\n",
    "# Train the model\n",
    "svm_model.fit(X_train, y_train)\n",
    "\n",
    "# Make predictions on the test set\n",
    "y_pred = svm_model.predict(X_test)"
   ]
  },
  {
   "cell_type": "code",
   "execution_count": 6,
   "id": "f605b7ce",
   "metadata": {},
   "outputs": [
    {
     "name": "stdout",
     "output_type": "stream",
     "text": [
      "Accuracy: 0.7922077922077922\n",
      "Accuracy: 79.22077922077922\n",
      "              precision    recall  f1-score   support\n",
      "\n",
      "           0       0.83      0.87      0.85       159\n",
      "           1       0.69      0.61      0.65        72\n",
      "\n",
      "    accuracy                           0.79       231\n",
      "   macro avg       0.76      0.74      0.75       231\n",
      "weighted avg       0.79      0.79      0.79       231\n",
      "\n"
     ]
    }
   ],
   "source": [
    "# Evaluate the model\n",
    "accuracy = accuracy_score(y_test, y_pred)\n",
    "print(\"Accuracy:\", accuracy)\n",
    "print(\"Accuracy:\", accuracy*100)\n",
    "print(classification_report(y_test, y_pred))"
   ]
  },
  {
   "cell_type": "code",
   "execution_count": 7,
   "id": "4784350d",
   "metadata": {},
   "outputs": [
    {
     "name": "stdout",
     "output_type": "stream",
     "text": [
      "Confusion Matrix:\n",
      "[[139  20]\n",
      " [ 28  44]]\n"
     ]
    }
   ],
   "source": [
    "# Make predictions on the test set\n",
    "y_pred = svm_model.predict(X_test)\n",
    "\n",
    "# Compute the confusion matrix\n",
    "conf_matrix = confusion_matrix(y_test, y_pred)\n",
    "\n",
    "# Print the confusion matrix\n",
    "print(\"Confusion Matrix:\")\n",
    "print(conf_matrix)"
   ]
  },
  {
   "cell_type": "code",
   "execution_count": 8,
   "id": "faf8d8bb",
   "metadata": {},
   "outputs": [
    {
     "name": "stdout",
     "output_type": "stream",
     "text": [
      "Scaled Confusion Matrix (230 instances):\n",
      "[[138.3982684   19.91341991]\n",
      " [ 27.87878788  43.80952381]]\n"
     ]
    }
   ],
   "source": [
    "# Assuming cm is the original confusion matrix with a total of 231 instances\n",
    "# Calculate the scaling factor\n",
    "scaling_factor = 230 / np.sum(conf_matrix)\n",
    "\n",
    "# Scale down the values in the confusion matrix\n",
    "conf_matrix = conf_matrix * scaling_factor\n",
    "\n",
    "# Print the scaled confusion matrix\n",
    "print(\"Scaled Confusion Matrix (230 instances):\")\n",
    "print(conf_matrix)"
   ]
  },
  {
   "cell_type": "code",
   "execution_count": 9,
   "id": "53409f71",
   "metadata": {},
   "outputs": [
    {
     "name": "stdout",
     "output_type": "stream",
     "text": [
      "False Positive Rate (FPR): 0.12578616352201258\n",
      "False Negative Rate (FNR): 0.3888888888888889\n",
      "True Positive Rate (TPR): 0.6111111111111112\n",
      "True Negative Rate (TNR): 0.8742138364779874\n"
     ]
    }
   ],
   "source": [
    "# Assuming cm is the confusion matrix\n",
    "\n",
    "# Extract values from the confusion matrix\n",
    "TN, FP, FN, TP = conf_matrix.ravel()\n",
    "\n",
    "# Calculate error rates\n",
    "FPR = FP / (FP + TN)\n",
    "FNR = FN / (FN + TP)\n",
    "\n",
    "# Print error rates\n",
    "print(\"False Positive Rate (FPR):\", FPR)\n",
    "print(\"False Negative Rate (FNR):\", FNR)\n",
    "\n",
    "# Calculate TPR (Sensitivity or Recall)\n",
    "TPR = TP / (TP + FN)\n",
    "\n",
    "# Calculate TNR (Specificity)\n",
    "TNR = TN / (TN + FP)\n",
    "\n",
    "# Print TPR and TNR\n",
    "print(\"True Positive Rate (TPR):\", TPR)\n",
    "print(\"True Negative Rate (TNR):\", TNR)"
   ]
  },
  {
   "cell_type": "code",
   "execution_count": 10,
   "id": "ca0b5dd8",
   "metadata": {},
   "outputs": [
    {
     "name": "stdout",
     "output_type": "stream",
     "text": [
      "MAE: 0.2077922077922078\n",
      "RMSE: 0.4558423058385518\n",
      "RAE: 0.0020964360587002093\n",
      "RRSE: 0.9999999999999999\n"
     ]
    }
   ],
   "source": [
    "# Calculate MAE\n",
    "mae = mean_absolute_error(y_test, y_pred)\n",
    "print(\"MAE:\", mae)\n",
    "\n",
    "# Calculate RMSE\n",
    "mse = mean_squared_error(y_test, y_pred)\n",
    "rmse = mse ** 0.5\n",
    "print(\"RMSE:\", rmse)\n",
    "\n",
    "# Calculate RAE\n",
    "rae = mae / (abs(y_test - y_test.mean()).sum())\n",
    "print(\"RAE:\", rae)\n",
    "\n",
    "# Calculate RRSE\n",
    "rrse = (rmse ** 2) / (mse.sum())\n",
    "print(\"RRSE:\", rrse)"
   ]
  },
  {
   "cell_type": "code",
   "execution_count": 11,
   "id": "b45a9415",
   "metadata": {},
   "outputs": [
    {
     "name": "stdout",
     "output_type": "stream",
     "text": [
      "MCC: 0.06411976265105528\n",
      "ROC AUC: 0.8327218728162125\n",
      "PRC AUC: 0.7146791674183772\n"
     ]
    }
   ],
   "source": [
    "# Train an SVM model\n",
    "svm_model = SVC(probability=True)  # Set probability=True to enable probability estimates\n",
    "svm_model.fit(X_train, y_train)\n",
    "\n",
    "# Predict decision values for the test set\n",
    "y_pred_decision = svm_model.decision_function(X_test)\n",
    "\n",
    "# Calculate MCC\n",
    "mcc = matthews_corrcoef(y_test, np.round(y_pred_decision))\n",
    "print(\"MCC:\", mcc)\n",
    "\n",
    "# Calculate ROC curve and AUC\n",
    "fpr, tpr, thresholds = roc_curve(y_test, y_pred_decision)\n",
    "roc_auc = auc(fpr, tpr)\n",
    "print(\"ROC AUC:\", roc_auc)\n",
    "\n",
    "# Calculate PRC curve and AUC\n",
    "precision, recall, thresholds = precision_recall_curve(y_test, y_pred_decision)\n",
    "prc_auc = auc(recall, precision)\n",
    "print(\"PRC AUC:\", prc_auc)"
   ]
  },
  {
   "cell_type": "code",
   "execution_count": 12,
   "id": "2022d5bd",
   "metadata": {},
   "outputs": [],
   "source": [
    "tn, fp, fn, tp = conf_matrix.ravel()\n",
    "\n",
    "tn0, fp0, fn0, tp0 = conf_matrix.ravel()  # Class 0\n",
    "tn1, fp1, fn1, tp1 = conf_matrix.ravel()[::-1]  # Class 1"
   ]
  },
  {
   "cell_type": "markdown",
   "id": "3531f0de",
   "metadata": {},
   "source": [
    "tp_rate0 = tp0 / (tp0 + fn0)\n",
    "fp_rate0 = fp0 / (fp0 + tn0)\n",
    "\n",
    "tp_rate1 = tp1 / (tp1 + fn1)\n",
    "fp_rate1 = fp1 / (fp1 + tn1)"
   ]
  },
  {
   "cell_type": "code",
   "execution_count": 13,
   "id": "ee966291",
   "metadata": {},
   "outputs": [],
   "source": [
    "tp_rate0 = tp0 / (tp0 + fn0)\n",
    "fp_rate0 = fp0 / (fp0 + tn0)\n",
    "\n",
    "tp_rate1 = tp1 / (tp1 + fn1)\n",
    "fp_rate1 = fp1 / (fp1 + tn1)"
   ]
  },
  {
   "cell_type": "code",
   "execution_count": 14,
   "id": "004bee3f",
   "metadata": {},
   "outputs": [
    {
     "name": "stdout",
     "output_type": "stream",
     "text": [
      "tp_rate0: 0.6111111111111112\n",
      "tp_rate1: 0.8742138364779874\n",
      "fp_rate0: 0.12578616352201258\n",
      "fp_rate1: 0.3888888888888889\n"
     ]
    }
   ],
   "source": [
    "print(\"tp_rate0:\", tp_rate0)\n",
    "print(\"tp_rate1:\", tp_rate1)\n",
    "\n",
    "print(\"fp_rate0:\", fp_rate0)\n",
    "print(\"fp_rate1:\", fp_rate1)"
   ]
  },
  {
   "cell_type": "code",
   "execution_count": 15,
   "id": "ef9c58ce",
   "metadata": {},
   "outputs": [],
   "source": [
    "weighted_tp = tp * 0.7\n",
    "weighted_fp = fp * 0.3"
   ]
  },
  {
   "cell_type": "code",
   "execution_count": 16,
   "id": "cd90e300",
   "metadata": {},
   "outputs": [
    {
     "name": "stdout",
     "output_type": "stream",
     "text": [
      "weighted_tp_rate: 0.7426624737945493\n",
      "weighted_fp_rate: 0.25733752620545075\n"
     ]
    }
   ],
   "source": [
    "weighted_tp_rate = (tp_rate0 + tp_rate1)/2\n",
    "print(\"weighted_tp_rate:\", weighted_tp_rate)\n",
    "\n",
    "weighted_fp_rate = (fp_rate0 + fp_rate1)/2\n",
    "print(\"weighted_fp_rate:\", weighted_fp_rate)"
   ]
  },
  {
   "cell_type": "code",
   "execution_count": 17,
   "id": "e0b35d74",
   "metadata": {},
   "outputs": [
    {
     "name": "stdout",
     "output_type": "stream",
     "text": [
      "weighted_tp_rate: 0.5238095238095237\n",
      "weighted_fp_rate: 0.041379310344827586\n"
     ]
    }
   ],
   "source": [
    "weighted_tp_rate = weighted_tp / (weighted_tp + fn)\n",
    "weighted_fp_rate = weighted_fp / (weighted_fp + tn)\n",
    "\n",
    "print(\"weighted_tp_rate:\", weighted_tp_rate)\n",
    "print(\"weighted_fp_rate:\", weighted_fp_rate)"
   ]
  },
  {
   "cell_type": "code",
   "execution_count": 20,
   "id": "7b3fe468",
   "metadata": {},
   "outputs": [
    {
     "data": {
      "image/png": "[encoded data removed]",
      "text/plain": [
       "<Figure size 432x288 with 1 Axes>"
      ]
     },
     "metadata": {
      "needs_background": "light"
     },
     "output_type": "display_data"
    }
   ],
   "source": [
    "# Plot ROC curve\n",
    "plt.figure()\n",
    "plt.plot(fpr, tpr, color='darkorange', lw=2, label='ROC curve (area = %0.2f)' % roc_auc)\n",
    "plt.plot([0, 1], [0, 1], color='navy', lw=2, linestyle='--')\n",
    "plt.xlim([0.0, 1.0])\n",
    "plt.ylim([0.0, 1.05])\n",
    "plt.xlabel('False Positive Rate')\n",
    "plt.ylabel('True Positive Rate')\n",
    "#plt.title('Receiver Operating Characteristic')\n",
    "plt.title('ROC Curve Using SVM')\n",
    "plt.legend(loc=\"lower right\")\n",
    "plt.savefig(\"SVM_ROC.jpg\")\n",
    "plt.show()"
   ]
  },
  {
   "cell_type": "code",
   "execution_count": null,
   "id": "bdedaf5c",
   "metadata": {},
   "outputs": [],
   "source": []
  },
  {
   "cell_type": "code",
   "execution_count": null,
   "id": "53dbf2c9",
   "metadata": {},
   "outputs": [],
   "source": []
  }
 ],
 "metadata": {
  "kernelspec": {
   "display_name": "Python 3 (ipykernel)",
   "language": "python",
   "name": "python3"
  },
  "language_info": {
   "codemirror_mode": {
    "name": "ipython",
    "version": 3
   },
   "file_extension": ".py",
   "mimetype": "text/x-python",
   "name": "python",
   "nbconvert_exporter": "python",
   "pygments_lexer": "ipython3",
   "version": "3.9.7"
  }
 },
 "nbformat": 4,
 "nbformat_minor": 5
}
