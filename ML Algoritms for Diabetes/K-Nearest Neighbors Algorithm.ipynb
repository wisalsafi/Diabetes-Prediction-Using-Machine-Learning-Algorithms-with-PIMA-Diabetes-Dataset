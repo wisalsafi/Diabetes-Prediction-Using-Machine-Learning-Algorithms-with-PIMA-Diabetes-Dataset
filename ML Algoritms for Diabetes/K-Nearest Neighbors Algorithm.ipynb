{
 "cells": [
  {
   "cell_type": "code",
   "execution_count": 1,
   "id": "8ccff032",
   "metadata": {},
   "outputs": [],
   "source": [
    "import pandas as pd\n",
    "import numpy as np\n",
    "from sklearn.model_selection import train_test_split\n",
    "from sklearn.preprocessing import StandardScaler\n",
    "from sklearn.neighbors import KNeighborsClassifier\n",
    "from sklearn.metrics import confusion_matrix\n",
    "from sklearn.metrics import accuracy_score, classification_report\n",
    "from sklearn.metrics import mean_absolute_error, mean_squared_error\n",
    "from sklearn.metrics import matthews_corrcoef, roc_curve, precision_recall_curve, auc\n",
    "import matplotlib.pyplot as plt"
   ]
  },
  {
   "cell_type": "code",
   "execution_count": 2,
   "id": "6d429eae",
   "metadata": {},
   "outputs": [
    {
     "data": {
      "text/html": [
       "<div>\n",
       "<style scoped>\n",
       "    .dataframe tbody tr th:only-of-type {\n",
       "        vertical-align: middle;\n",
       "    }\n",
       "\n",
       "    .dataframe tbody tr th {\n",
       "        vertical-align: top;\n",
       "    }\n",
       "\n",
       "    .dataframe thead th {\n",
       "        text-align: right;\n",
       "    }\n",
       "</style>\n",
       "<table border=\"1\" class=\"dataframe\">\n",
       "  <thead>\n",
       "    <tr style=\"text-align: right;\">\n",
       "      <th></th>\n",
       "      <th>Pregnancies</th>\n",
       "      <th>Glucose</th>\n",
       "      <th>BloodPressure</th>\n",
       "      <th>SkinThickness</th>\n",
       "      <th>Insulin</th>\n",
       "      <th>BMI</th>\n",
       "      <th>DiabetesPedigreeFunction</th>\n",
       "      <th>Age</th>\n",
       "      <th>Outcome</th>\n",
       "    </tr>\n",
       "  </thead>\n",
       "  <tbody>\n",
       "    <tr>\n",
       "      <th>0</th>\n",
       "      <td>6</td>\n",
       "      <td>148</td>\n",
       "      <td>72</td>\n",
       "      <td>35</td>\n",
       "      <td>0</td>\n",
       "      <td>33.6</td>\n",
       "      <td>0.627</td>\n",
       "      <td>50</td>\n",
       "      <td>1</td>\n",
       "    </tr>\n",
       "    <tr>\n",
       "      <th>1</th>\n",
       "      <td>1</td>\n",
       "      <td>85</td>\n",
       "      <td>66</td>\n",
       "      <td>29</td>\n",
       "      <td>0</td>\n",
       "      <td>26.6</td>\n",
       "      <td>0.351</td>\n",
       "      <td>31</td>\n",
       "      <td>0</td>\n",
       "    </tr>\n",
       "    <tr>\n",
       "      <th>2</th>\n",
       "      <td>8</td>\n",
       "      <td>183</td>\n",
       "      <td>64</td>\n",
       "      <td>0</td>\n",
       "      <td>0</td>\n",
       "      <td>23.3</td>\n",
       "      <td>0.672</td>\n",
       "      <td>32</td>\n",
       "      <td>1</td>\n",
       "    </tr>\n",
       "    <tr>\n",
       "      <th>3</th>\n",
       "      <td>1</td>\n",
       "      <td>89</td>\n",
       "      <td>66</td>\n",
       "      <td>23</td>\n",
       "      <td>94</td>\n",
       "      <td>28.1</td>\n",
       "      <td>0.167</td>\n",
       "      <td>21</td>\n",
       "      <td>0</td>\n",
       "    </tr>\n",
       "    <tr>\n",
       "      <th>4</th>\n",
       "      <td>0</td>\n",
       "      <td>137</td>\n",
       "      <td>40</td>\n",
       "      <td>35</td>\n",
       "      <td>168</td>\n",
       "      <td>43.1</td>\n",
       "      <td>2.288</td>\n",
       "      <td>33</td>\n",
       "      <td>1</td>\n",
       "    </tr>\n",
       "  </tbody>\n",
       "</table>\n",
       "</div>"
      ],
      "text/plain": [
       "   Pregnancies  Glucose  BloodPressure  SkinThickness  Insulin   BMI  \\\n",
       "0            6      148             72             35        0  33.6   \n",
       "1            1       85             66             29        0  26.6   \n",
       "2            8      183             64              0        0  23.3   \n",
       "3            1       89             66             23       94  28.1   \n",
       "4            0      137             40             35      168  43.1   \n",
       "\n",
       "   DiabetesPedigreeFunction  Age  Outcome  \n",
       "0                     0.627   50        1  \n",
       "1                     0.351   31        0  \n",
       "2                     0.672   32        1  \n",
       "3                     0.167   21        0  \n",
       "4                     2.288   33        1  "
      ]
     },
     "execution_count": 2,
     "metadata": {},
     "output_type": "execute_result"
    }
   ],
   "source": [
    "# Load the dataset\n",
    "data = pd.read_csv('diabetes.csv')\n",
    "data.head()"
   ]
  },
  {
   "cell_type": "code",
   "execution_count": 3,
   "id": "a52b5f4d",
   "metadata": {},
   "outputs": [],
   "source": [
    "# Separate features and target variable\n",
    "X = data.iloc[:, :-1]\n",
    "y = data.iloc[:, -1]"
   ]
  },
  {
   "cell_type": "code",
   "execution_count": 4,
   "id": "2a675d6b",
   "metadata": {},
   "outputs": [],
   "source": [
    "# Split the dataset into training and testing sets\n",
    "X_train, X_test, y_train, y_test = train_test_split(X, y, test_size=0.3, random_state=30)"
   ]
  },
  {
   "cell_type": "code",
   "execution_count": 5,
   "id": "a69a2b19",
   "metadata": {},
   "outputs": [],
   "source": [
    "# Scale the features\n",
    "scaler = StandardScaler()\n",
    "X_train = scaler.fit_transform(X_train)\n",
    "X_test = scaler.transform(X_test)"
   ]
  },
  {
   "cell_type": "code",
   "execution_count": 6,
   "id": "c86c0162",
   "metadata": {},
   "outputs": [],
   "source": [
    "# Create and train the KNN classifier\n",
    "k = 5  # Number of neighbors to consider\n",
    "knn = KNeighborsClassifier(n_neighbors=k)\n",
    "knn.fit(X_train, y_train)\n",
    "\n",
    "# Make predictions on the testing set\n",
    "y_pred = knn.predict(X_test)"
   ]
  },
  {
   "cell_type": "code",
   "execution_count": 7,
   "id": "69e6d4c5",
   "metadata": {},
   "outputs": [
    {
     "name": "stdout",
     "output_type": "stream",
     "text": [
      "Accuracy: 0.7229437229437229\n",
      "Accuracy: 72.2943722943723\n"
     ]
    }
   ],
   "source": [
    "# Evaluate the accuracy of the classifier\n",
    "accuracy = accuracy_score(y_test, y_pred)\n",
    "print(\"Accuracy:\", accuracy)\n",
    "print(\"Accuracy:\", accuracy*100)"
   ]
  },
  {
   "cell_type": "code",
   "execution_count": 8,
   "id": "30c79a6f",
   "metadata": {},
   "outputs": [
    {
     "name": "stdout",
     "output_type": "stream",
     "text": [
      "Confusion Matrix:\n",
      "[[125  34]\n",
      " [ 30  42]]\n"
     ]
    }
   ],
   "source": [
    "# Make predictions on the test set\n",
    "y_pred = knn.predict(X_test)\n",
    "\n",
    "# Compute the confusion matrix\n",
    "cm = confusion_matrix(y_test, y_pred)\n",
    "\n",
    "# Print the confusion matrix\n",
    "print(\"Confusion Matrix:\")\n",
    "print(cm)"
   ]
  },
  {
   "cell_type": "code",
   "execution_count": 9,
   "id": "73a1a2ea",
   "metadata": {},
   "outputs": [
    {
     "name": "stdout",
     "output_type": "stream",
     "text": [
      "Scaled Confusion Matrix (230 instances):\n",
      "[[124.45887446  33.85281385]\n",
      " [ 29.87012987  41.81818182]]\n"
     ]
    }
   ],
   "source": [
    "# Assuming cm is the original confusion matrix with a total of 231 instances\n",
    "# Calculate the scaling factor\n",
    "scaling_factor = 230 / np.sum(cm)\n",
    "\n",
    "# Scale down the values in the confusion matrix\n",
    "scaled_knn = cm * scaling_factor\n",
    "\n",
    "# Print the scaled confusion matrix\n",
    "print(\"Scaled Confusion Matrix (230 instances):\")\n",
    "print(scaled_knn)"
   ]
  },
  {
   "cell_type": "code",
   "execution_count": 10,
   "id": "d56604bc",
   "metadata": {},
   "outputs": [
    {
     "name": "stdout",
     "output_type": "stream",
     "text": [
      "Training Accuracy: 0.82\n",
      "Test Accuracy: 0.72\n"
     ]
    }
   ],
   "source": [
    "acc_train = accuracy_score(y_train, knn.predict(X_train))\n",
    "acc_test = knn.score(X_test, y_test)\n",
    "\n",
    "print(\"Training Accuracy:\", round(acc_train, 2))\n",
    "print(\"Test Accuracy:\", round(acc_test, 2))"
   ]
  },
  {
   "cell_type": "code",
   "execution_count": 11,
   "id": "83c95b10",
   "metadata": {},
   "outputs": [
    {
     "name": "stdout",
     "output_type": "stream",
     "text": [
      "False Positive Rate (FPR): 0.2138364779874214\n",
      "False Negative Rate (FNR): 0.4166666666666667\n",
      "True Positive Rate (TPR): 0.5833333333333334\n",
      "True Negative Rate (TNR): 0.7861635220125787\n"
     ]
    }
   ],
   "source": [
    "# Assuming cm is the confusion matrix\n",
    "\n",
    "# Extract values from the confusion matrix\n",
    "TN, FP, FN, TP = cm.ravel()\n",
    "\n",
    "# Calculate error rates\n",
    "FPR = FP / (FP + TN)\n",
    "FNR = FN / (FN + TP)\n",
    "\n",
    "# Print error rates\n",
    "print(\"False Positive Rate (FPR):\", FPR)\n",
    "print(\"False Negative Rate (FNR):\", FNR)\n",
    "\n",
    "# Calculate TPR (Sensitivity or Recall)\n",
    "TPR = TP / (TP + FN)\n",
    "\n",
    "# Calculate TNR (Specificity)\n",
    "TNR = TN / (TN + FP)\n",
    "\n",
    "# Print TPR and TNR\n",
    "print(\"True Positive Rate (TPR):\", TPR)\n",
    "print(\"True Negative Rate (TNR):\", TNR)"
   ]
  },
  {
   "cell_type": "code",
   "execution_count": 12,
   "id": "b1b35f63",
   "metadata": {},
   "outputs": [
    {
     "name": "stdout",
     "output_type": "stream",
     "text": [
      "              precision    recall  f1-score   support\n",
      "\n",
      "           0       0.81      0.79      0.80       159\n",
      "           1       0.55      0.58      0.57        72\n",
      "\n",
      "    accuracy                           0.72       231\n",
      "   macro avg       0.68      0.68      0.68       231\n",
      "weighted avg       0.73      0.72      0.72       231\n",
      "\n"
     ]
    }
   ],
   "source": [
    "print(classification_report(y_test, y_pred))"
   ]
  },
  {
   "cell_type": "code",
   "execution_count": 13,
   "id": "00976b6f",
   "metadata": {},
   "outputs": [
    {
     "name": "stdout",
     "output_type": "stream",
     "text": [
      "MAE: 0.27705627705627706\n",
      "RMSE: 0.5263613559678152\n",
      "RAE: 0.0027952480782669456\n",
      "RRSE: 1.0\n"
     ]
    }
   ],
   "source": [
    "# Calculate MAE\n",
    "mae = mean_absolute_error(y_test, y_pred)\n",
    "print(\"MAE:\", mae)\n",
    "\n",
    "# Calculate RMSE\n",
    "mse = mean_squared_error(y_test, y_pred)\n",
    "rmse = mse ** 0.5\n",
    "print(\"RMSE:\", rmse)\n",
    "\n",
    "# Calculate RAE\n",
    "rae = mae / (abs(y_test - y_test.mean()).sum())\n",
    "print(\"RAE:\", rae)\n",
    "\n",
    "# Calculate RRSE\n",
    "rrse = (rmse ** 2) / (mse.sum())\n",
    "print(\"RRSE:\", rrse)"
   ]
  },
  {
   "cell_type": "code",
   "execution_count": 14,
   "id": "b08c6d62",
   "metadata": {},
   "outputs": [
    {
     "name": "stdout",
     "output_type": "stream",
     "text": [
      "MCC: 0.3642528108283687\n",
      "ROC AUC: 0.7546733053808525\n",
      "PRC AUC: 0.5666058244716261\n"
     ]
    }
   ],
   "source": [
    "# Predict probabilities for the test set\n",
    "y_pred_prob = knn.predict_proba(X_test)[:, 1]\n",
    "\n",
    "# Calculate MCC\n",
    "mcc = matthews_corrcoef(y_test, np.round(y_pred_prob))\n",
    "print(\"MCC:\", mcc)\n",
    "\n",
    "# Calculate ROC curve and AUC\n",
    "fpr, tpr, thresholds = roc_curve(y_test, y_pred_prob)\n",
    "roc_auc = auc(fpr, tpr)\n",
    "print(\"ROC AUC:\", roc_auc)\n",
    "\n",
    "# Calculate PRC curve and AUC\n",
    "precision, recall, thresholds = precision_recall_curve(y_test, y_pred_prob)\n",
    "prc_auc = auc(recall, precision)\n",
    "print(\"PRC AUC:\", prc_auc)"
   ]
  },
  {
   "cell_type": "code",
   "execution_count": 23,
   "id": "3166b5c7",
   "metadata": {},
   "outputs": [
    {
     "data": {
      "image/png": "[encoded data removed]",
      "text/plain": [
       "<Figure size 432x288 with 1 Axes>"
      ]
     },
     "metadata": {
      "needs_background": "light"
     },
     "output_type": "display_data"
    }
   ],
   "source": [
    "# Plot ROC curve\n",
    "plt.figure()\n",
    "plt.plot(fpr, tpr, color='darkorange', lw=2, label='ROC curve (area = %0.2f)' % roc_auc)\n",
    "plt.plot([0, 1], [0, 1], color='navy', lw=2, linestyle='--')\n",
    "plt.xlim([0.0, 1.0])\n",
    "plt.ylim([0.0, 1.05])\n",
    "plt.xlabel('False Positive Rate')\n",
    "plt.ylabel('True Positive Rate')\n",
    "#plt.title('Receiver Operating Characteristic')\n",
    "plt.title('ROC Curve Using KNN')\n",
    "plt.legend(loc=\"lower right\")\n",
    "plt.savefig(\"KNN_ROC.jpg\")\n",
    "plt.show()"
   ]
  },
  {
   "cell_type": "code",
   "execution_count": 16,
   "id": "9f94d010",
   "metadata": {},
   "outputs": [
    {
     "data": {
      "image/png": "[encoded data removed]",
      "text/plain": [
       "<Figure size 432x288 with 1 Axes>"
      ]
     },
     "metadata": {
      "needs_background": "light"
     },
     "output_type": "display_data"
    }
   ],
   "source": [
    "# Plot PRC curve\n",
    "plt.figure()\n",
    "plt.plot(recall, precision, color='darkorange', lw=2, label='PRC curve (area = %0.2f)' % prc_auc)\n",
    "plt.xlim([0.0, 1.0])\n",
    "plt.ylim([0.0, 1.05])\n",
    "plt.xlabel('Recall')\n",
    "plt.ylabel('Precision')\n",
    "plt.title('Precision-Recall Curve')\n",
    "plt.legend(loc=\"lower right\")\n",
    "plt.show()"
   ]
  },
  {
   "cell_type": "code",
   "execution_count": 17,
   "id": "5fc603ef",
   "metadata": {},
   "outputs": [],
   "source": [
    "tn, fp, fn, tp = cm.ravel()\n",
    "tn0, fp0, fn0, tp0 = cm.ravel()  # Class 0\n",
    "tn1, fp1, fn1, tp1 = cm.ravel()[::-1]  # Class 1"
   ]
  },
  {
   "cell_type": "code",
   "execution_count": 18,
   "id": "9f0f02f4",
   "metadata": {},
   "outputs": [],
   "source": [
    "tp_rate0 = tp0 / (tp0 + fn0)\n",
    "fp_rate0 = fp0 / (fp0 + tn0)\n",
    "\n",
    "tp_rate1 = tp1 / (tp1 + fn1)\n",
    "fp_rate1 = fp1 / (fp1 + tn1)"
   ]
  },
  {
   "cell_type": "code",
   "execution_count": 19,
   "id": "c5808a28",
   "metadata": {},
   "outputs": [
    {
     "name": "stdout",
     "output_type": "stream",
     "text": [
      "tp_rate0: 0.5833333333333334\n",
      "tp_rate1: 0.7861635220125787\n",
      "fp_rate0: 0.2138364779874214\n",
      "fp_rate1: 0.4166666666666667\n"
     ]
    }
   ],
   "source": [
    "print(\"tp_rate0:\", tp_rate0)\n",
    "print(\"tp_rate1:\", tp_rate1)\n",
    "\n",
    "print(\"fp_rate0:\", fp_rate0)\n",
    "print(\"fp_rate1:\", fp_rate1)"
   ]
  },
  {
   "cell_type": "code",
   "execution_count": 20,
   "id": "a38c7985",
   "metadata": {},
   "outputs": [],
   "source": [
    "weighted_tp = tp * 0.7\n",
    "weighted_fp = fp * 0.3"
   ]
  },
  {
   "cell_type": "code",
   "execution_count": 21,
   "id": "5f3cb196",
   "metadata": {},
   "outputs": [
    {
     "name": "stdout",
     "output_type": "stream",
     "text": [
      "weighted_tp_rate: 0.6847484276729561\n",
      "weighted_fp_rate: 0.31525157232704404\n"
     ]
    }
   ],
   "source": [
    "weighted_tp_rate = (tp_rate0 + tp_rate1)/2\n",
    "print(\"weighted_tp_rate:\", weighted_tp_rate)\n",
    "\n",
    "weighted_fp_rate = (fp_rate0 + fp_rate1)/2\n",
    "print(\"weighted_fp_rate:\", weighted_fp_rate)"
   ]
  },
  {
   "cell_type": "code",
   "execution_count": 22,
   "id": "c8a1d3a7",
   "metadata": {},
   "outputs": [
    {
     "name": "stdout",
     "output_type": "stream",
     "text": [
      "weighted_tp_rate: 0.4949494949494949\n",
      "weighted_fp_rate: 0.07544378698224852\n"
     ]
    }
   ],
   "source": [
    "weighted_tp_rate = weighted_tp / (weighted_tp + fn)\n",
    "weighted_fp_rate = weighted_fp / (weighted_fp + tn)\n",
    "\n",
    "print(\"weighted_tp_rate:\", weighted_tp_rate)\n",
    "print(\"weighted_fp_rate:\", weighted_fp_rate)"
   ]
  },
  {
   "cell_type": "code",
   "execution_count": null,
   "id": "6d2275e2",
   "metadata": {},
   "outputs": [],
   "source": []
  }
 ],
 "metadata": {
  "kernelspec": {
   "display_name": "Python 3 (ipykernel)",
   "language": "python",
   "name": "python3"
  },
  "language_info": {
   "codemirror_mode": {
    "name": "ipython",
    "version": 3
   },
   "file_extension": ".py",
   "mimetype": "text/x-python",
   "name": "python",
   "nbconvert_exporter": "python",
   "pygments_lexer": "ipython3",
   "version": "3.9.7"
  }
 },
 "nbformat": 4,
 "nbformat_minor": 5
}
