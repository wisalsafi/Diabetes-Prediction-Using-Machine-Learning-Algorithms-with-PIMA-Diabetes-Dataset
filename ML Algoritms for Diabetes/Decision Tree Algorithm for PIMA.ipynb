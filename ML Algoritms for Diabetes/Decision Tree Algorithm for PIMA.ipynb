{
 "cells": [
  {
   "cell_type": "code",
   "execution_count": 1,
   "id": "d13fe917",
   "metadata": {},
   "outputs": [],
   "source": [
    "import numpy as np\n",
    "import pandas as pd\n",
    "from sklearn.model_selection import train_test_split\n",
    "from sklearn.tree import DecisionTreeClassifier\n",
    "from sklearn.metrics import accuracy_score, confusion_matrix, classification_report\n",
    "from sklearn.metrics import mean_absolute_error, mean_squared_error\n",
    "from sklearn.metrics import matthews_corrcoef, roc_curve, precision_recall_curve, auc\n",
    "import matplotlib.pyplot as plt"
   ]
  },
  {
   "cell_type": "code",
   "execution_count": 2,
   "id": "7c5c1124",
   "metadata": {},
   "outputs": [
    {
     "data": {
      "text/html": [
       "<div>\n",
       "<style scoped>\n",
       "    .dataframe tbody tr th:only-of-type {\n",
       "        vertical-align: middle;\n",
       "    }\n",
       "\n",
       "    .dataframe tbody tr th {\n",
       "        vertical-align: top;\n",
       "    }\n",
       "\n",
       "    .dataframe thead th {\n",
       "        text-align: right;\n",
       "    }\n",
       "</style>\n",
       "<table border=\"1\" class=\"dataframe\">\n",
       "  <thead>\n",
       "    <tr style=\"text-align: right;\">\n",
       "      <th></th>\n",
       "      <th>Pregnancies</th>\n",
       "      <th>Glucose</th>\n",
       "      <th>BloodPressure</th>\n",
       "      <th>SkinThickness</th>\n",
       "      <th>Insulin</th>\n",
       "      <th>BMI</th>\n",
       "      <th>DiabetesPedigreeFunction</th>\n",
       "      <th>Age</th>\n",
       "      <th>Outcome</th>\n",
       "    </tr>\n",
       "  </thead>\n",
       "  <tbody>\n",
       "    <tr>\n",
       "      <th>0</th>\n",
       "      <td>6</td>\n",
       "      <td>148</td>\n",
       "      <td>72</td>\n",
       "      <td>35</td>\n",
       "      <td>0</td>\n",
       "      <td>33.6</td>\n",
       "      <td>0.627</td>\n",
       "      <td>50</td>\n",
       "      <td>1</td>\n",
       "    </tr>\n",
       "    <tr>\n",
       "      <th>1</th>\n",
       "      <td>1</td>\n",
       "      <td>85</td>\n",
       "      <td>66</td>\n",
       "      <td>29</td>\n",
       "      <td>0</td>\n",
       "      <td>26.6</td>\n",
       "      <td>0.351</td>\n",
       "      <td>31</td>\n",
       "      <td>0</td>\n",
       "    </tr>\n",
       "    <tr>\n",
       "      <th>2</th>\n",
       "      <td>8</td>\n",
       "      <td>183</td>\n",
       "      <td>64</td>\n",
       "      <td>0</td>\n",
       "      <td>0</td>\n",
       "      <td>23.3</td>\n",
       "      <td>0.672</td>\n",
       "      <td>32</td>\n",
       "      <td>1</td>\n",
       "    </tr>\n",
       "    <tr>\n",
       "      <th>3</th>\n",
       "      <td>1</td>\n",
       "      <td>89</td>\n",
       "      <td>66</td>\n",
       "      <td>23</td>\n",
       "      <td>94</td>\n",
       "      <td>28.1</td>\n",
       "      <td>0.167</td>\n",
       "      <td>21</td>\n",
       "      <td>0</td>\n",
       "    </tr>\n",
       "    <tr>\n",
       "      <th>4</th>\n",
       "      <td>0</td>\n",
       "      <td>137</td>\n",
       "      <td>40</td>\n",
       "      <td>35</td>\n",
       "      <td>168</td>\n",
       "      <td>43.1</td>\n",
       "      <td>2.288</td>\n",
       "      <td>33</td>\n",
       "      <td>1</td>\n",
       "    </tr>\n",
       "  </tbody>\n",
       "</table>\n",
       "</div>"
      ],
      "text/plain": [
       "   Pregnancies  Glucose  BloodPressure  SkinThickness  Insulin   BMI  \\\n",
       "0            6      148             72             35        0  33.6   \n",
       "1            1       85             66             29        0  26.6   \n",
       "2            8      183             64              0        0  23.3   \n",
       "3            1       89             66             23       94  28.1   \n",
       "4            0      137             40             35      168  43.1   \n",
       "\n",
       "   DiabetesPedigreeFunction  Age  Outcome  \n",
       "0                     0.627   50        1  \n",
       "1                     0.351   31        0  \n",
       "2                     0.672   32        1  \n",
       "3                     0.167   21        0  \n",
       "4                     2.288   33        1  "
      ]
     },
     "execution_count": 2,
     "metadata": {},
     "output_type": "execute_result"
    }
   ],
   "source": [
    "# Assuming you have the PIMA diabetes dataset in a CSV file\n",
    "data = pd.read_csv('diabetes.csv')\n",
    "data.head()"
   ]
  },
  {
   "cell_type": "code",
   "execution_count": 3,
   "id": "93c5dbca",
   "metadata": {},
   "outputs": [],
   "source": [
    "# Split the dataset into features (X) and target variable (y)\n",
    "X = data.iloc[:, :-1]\n",
    "y = data.iloc[:, -1]"
   ]
  },
  {
   "cell_type": "code",
   "execution_count": 4,
   "id": "e02fa9a4",
   "metadata": {},
   "outputs": [],
   "source": [
    "X_train, X_test, y_train, y_test = train_test_split(X, y, test_size=0.3, random_state=30)"
   ]
  },
  {
   "cell_type": "code",
   "execution_count": 5,
   "id": "f27e3679",
   "metadata": {},
   "outputs": [
    {
     "data": {
      "text/plain": [
       "DecisionTreeClassifier(random_state=30)"
      ]
     },
     "execution_count": 5,
     "metadata": {},
     "output_type": "execute_result"
    }
   ],
   "source": [
    "model = DecisionTreeClassifier(random_state=30)\n",
    "model.fit(X_train, y_train)"
   ]
  },
  {
   "cell_type": "code",
   "execution_count": 6,
   "id": "e9c57310",
   "metadata": {},
   "outputs": [],
   "source": [
    "y_pred = model.predict(X_test)"
   ]
  },
  {
   "cell_type": "code",
   "execution_count": 7,
   "id": "9ca06991",
   "metadata": {
    "scrolled": true
   },
   "outputs": [
    {
     "name": "stdout",
     "output_type": "stream",
     "text": [
      "Accuracy: 0.7186147186147186\n",
      "Confusion Matrix:\n",
      "[[121  38]\n",
      " [ 27  45]]\n",
      "Accuracy: 71.86147186147186\n"
     ]
    }
   ],
   "source": [
    "accuracy = accuracy_score(y_test, y_pred)\n",
    "conf_matrix = confusion_matrix(y_test, y_pred)\n",
    "\n",
    "print(\"Accuracy:\", accuracy)\n",
    "print(\"Confusion Matrix:\")\n",
    "print(conf_matrix)\n",
    "print(\"Accuracy:\", accuracy*100)"
   ]
  },
  {
   "cell_type": "code",
   "execution_count": 8,
   "id": "5fd5c43a",
   "metadata": {},
   "outputs": [
    {
     "name": "stdout",
     "output_type": "stream",
     "text": [
      "Scaled Confusion Matrix (230 instances):\n",
      "[[120.47619048  37.83549784]\n",
      " [ 26.88311688  44.80519481]]\n"
     ]
    }
   ],
   "source": [
    "# Assuming cm is the original confusion matrix with a total of 231 instances\n",
    "# Calculate the scaling factor\n",
    "scaling_factor = 230 / np.sum(conf_matrix)\n",
    "\n",
    "# Scale down the values in the confusion matrix\n",
    "conf_matrix = conf_matrix * scaling_factor\n",
    "\n",
    "# Print the scaled confusion matrix\n",
    "print(\"Scaled Confusion Matrix (230 instances):\")\n",
    "print(conf_matrix)"
   ]
  },
  {
   "cell_type": "code",
   "execution_count": 9,
   "id": "70b4e90d",
   "metadata": {},
   "outputs": [
    {
     "name": "stdout",
     "output_type": "stream",
     "text": [
      "False Positive Rate (FPR): 0.2389937106918239\n",
      "False Negative Rate (FNR): 0.37499999999999994\n",
      "True Positive Rate (TPR): 0.625\n",
      "True Negative Rate (TNR): 0.761006289308176\n"
     ]
    }
   ],
   "source": [
    "# Assuming cm is the confusion matrix\n",
    "\n",
    "# Extract values from the confusion matrix\n",
    "TN, FP, FN, TP = conf_matrix.ravel()\n",
    "\n",
    "# Calculate error rates\n",
    "FPR = FP / (FP + TN)\n",
    "FNR = FN / (FN + TP)\n",
    "\n",
    "# Print error rates\n",
    "print(\"False Positive Rate (FPR):\", FPR)\n",
    "print(\"False Negative Rate (FNR):\", FNR)\n",
    "\n",
    "# Calculate TPR (Sensitivity or Recall)\n",
    "TPR = TP / (TP + FN)\n",
    "\n",
    "# Calculate TNR (Specificity)\n",
    "TNR = TN / (TN + FP)\n",
    "\n",
    "# Print TPR and TNR\n",
    "print(\"True Positive Rate (TPR):\", TPR)\n",
    "print(\"True Negative Rate (TNR):\", TNR)"
   ]
  },
  {
   "cell_type": "code",
   "execution_count": 10,
   "id": "f8353474",
   "metadata": {},
   "outputs": [
    {
     "name": "stdout",
     "output_type": "stream",
     "text": [
      "              precision    recall  f1-score   support\n",
      "\n",
      "           0       0.82      0.76      0.79       159\n",
      "           1       0.54      0.62      0.58        72\n",
      "\n",
      "    accuracy                           0.72       231\n",
      "   macro avg       0.68      0.69      0.68       231\n",
      "weighted avg       0.73      0.72      0.72       231\n",
      "\n"
     ]
    }
   ],
   "source": [
    "print(classification_report(y_test, y_pred))"
   ]
  },
  {
   "cell_type": "code",
   "execution_count": 11,
   "id": "5c769ef5",
   "metadata": {},
   "outputs": [
    {
     "name": "stdout",
     "output_type": "stream",
     "text": [
      "0.625\n",
      "0.7610062893081759\n"
     ]
    }
   ],
   "source": [
    "class_weights = y_test.value_counts(normalize=True)\n",
    "weighted_tpr = (class_weights * TPR).sum()\n",
    "weighted_tnr = (class_weights * TNR).sum()\n",
    "print(weighted_tpr)\n",
    "print(weighted_tnr)"
   ]
  },
  {
   "cell_type": "markdown",
   "id": "5bd6c0f5",
   "metadata": {},
   "source": [
    "# Different ERROR Rates"
   ]
  },
  {
   "cell_type": "code",
   "execution_count": 12,
   "id": "be9d48fc",
   "metadata": {},
   "outputs": [
    {
     "name": "stdout",
     "output_type": "stream",
     "text": [
      "MAE: 0.2813852813852814\n",
      "RMSE: 0.5304576150695561\n",
      "RAE: 0.002838923829489867\n",
      "RRSE: 1.0\n"
     ]
    }
   ],
   "source": [
    "# Calculate MAE\n",
    "mae = mean_absolute_error(y_test, y_pred)\n",
    "print(\"MAE:\", mae)\n",
    "\n",
    "# Calculate RMSE\n",
    "mse = mean_squared_error(y_test, y_pred)\n",
    "rmse = mse ** 0.5\n",
    "print(\"RMSE:\", rmse)\n",
    "\n",
    "# Calculate RAE\n",
    "rae = mae / (abs(y_test - y_test.mean()).sum())\n",
    "print(\"RAE:\", rae)\n",
    "\n",
    "# Calculate RRSE\n",
    "rrse = (rmse ** 2) / (mse.sum())\n",
    "print(\"RRSE:\", rrse)"
   ]
  },
  {
   "cell_type": "code",
   "execution_count": 13,
   "id": "b4e0f01a",
   "metadata": {},
   "outputs": [
    {
     "name": "stdout",
     "output_type": "stream",
     "text": [
      "MCC: 0.3726398422161884\n",
      "ROC AUC: 0.6930031446540881\n",
      "PRC AUC: 0.642025895790956\n"
     ]
    }
   ],
   "source": [
    "# Predict probabilities for the test set\n",
    "y_pred_prob = model.predict_proba(X_test)[:, 1]\n",
    "\n",
    "# Calculate MCC\n",
    "mcc = matthews_corrcoef(y_test, np.round(y_pred_prob))\n",
    "print(\"MCC:\", mcc)\n",
    "\n",
    "# Calculate ROC curve and AUC\n",
    "fpr, tpr, thresholds = roc_curve(y_test, y_pred_prob)\n",
    "roc_auc = auc(fpr, tpr)\n",
    "print(\"ROC AUC:\", roc_auc)\n",
    "\n",
    "# Calculate PRC curve and AUC\n",
    "precision, recall, thresholds = precision_recall_curve(y_test, y_pred_prob)\n",
    "prc_auc = auc(recall, precision)\n",
    "print(\"PRC AUC:\", prc_auc)"
   ]
  },
  {
   "cell_type": "code",
   "execution_count": 14,
   "id": "6762d609",
   "metadata": {},
   "outputs": [
    {
     "data": {
      "image/png": "[encoded data removed]",
      "text/plain": [
       "<Figure size 432x288 with 1 Axes>"
      ]
     },
     "metadata": {
      "needs_background": "light"
     },
     "output_type": "display_data"
    }
   ],
   "source": [
    "# Plot ROC curve\n",
    "plt.figure()\n",
    "plt.plot(fpr, tpr, color='darkorange', lw=2, label='ROC curve (area = %0.2f)' % roc_auc)\n",
    "plt.plot([0, 1], [0, 1], color='navy', lw=2, linestyle='--')\n",
    "plt.xlim([0.0, 1.0])\n",
    "plt.ylim([0.0, 1.05])\n",
    "plt.xlabel('False Positive Rate')\n",
    "plt.ylabel('True Positive Rate')\n",
    "#plt.title('Receiver Operating Characteristic')\n",
    "plt.title('ROC Curve Using Decision Tree')\n",
    "plt.legend(loc=\"lower right\")\n",
    "plt.savefig(\"Decision_Tree_ROC.jpg\")\n",
    "plt.show()"
   ]
  },
  {
   "cell_type": "code",
   "execution_count": 15,
   "id": "8d8e4381",
   "metadata": {},
   "outputs": [
    {
     "data": {
      "image/png": "[encoded data removed]",
      "text/plain": [
       "<Figure size 432x288 with 1 Axes>"
      ]
     },
     "metadata": {
      "needs_background": "light"
     },
     "output_type": "display_data"
    }
   ],
   "source": [
    "# Plot PRC curve\n",
    "plt.figure()\n",
    "plt.plot(recall, precision, color='darkorange', lw=2, label='PRC curve (area = %0.2f)' % prc_auc)\n",
    "plt.xlim([0.0, 1.0])\n",
    "plt.ylim([0.0, 1.05])\n",
    "plt.xlabel('Recall')\n",
    "plt.ylabel('Precision')\n",
    "plt.title('Precision-Recall Curve')\n",
    "plt.legend(loc=\"lower right\")\n",
    "plt.show()"
   ]
  },
  {
   "cell_type": "code",
   "execution_count": 16,
   "id": "83e12b8c",
   "metadata": {},
   "outputs": [],
   "source": [
    "tn, fp, fn, tp = conf_matrix.ravel()"
   ]
  },
  {
   "cell_type": "code",
   "execution_count": 17,
   "id": "79283022",
   "metadata": {},
   "outputs": [],
   "source": [
    "tn0, fp0, fn0, tp0 = conf_matrix.ravel()  # Class 0\n",
    "tn1, fp1, fn1, tp1 = conf_matrix.ravel()[::-1]  # Class 1"
   ]
  },
  {
   "cell_type": "code",
   "execution_count": 18,
   "id": "e2d026f6",
   "metadata": {},
   "outputs": [],
   "source": [
    "tp_rate0 = tp0 / (tp0 + fn0)\n",
    "fp_rate0 = fp0 / (fp0 + tn0)\n",
    "\n",
    "tp_rate1 = tp1 / (tp1 + fn1)\n",
    "fp_rate1 = fp1 / (fp1 + tn1)"
   ]
  },
  {
   "cell_type": "code",
   "execution_count": 19,
   "id": "8dd658c4",
   "metadata": {},
   "outputs": [
    {
     "name": "stdout",
     "output_type": "stream",
     "text": [
      "tp_rate0: 0.625\n",
      "tp_rate1: 0.761006289308176\n",
      "fp_rate0: 0.2389937106918239\n",
      "fp_rate1: 0.37499999999999994\n"
     ]
    }
   ],
   "source": [
    "print(\"tp_rate0:\", tp_rate0)\n",
    "print(\"tp_rate1:\", tp_rate1)\n",
    "\n",
    "print(\"fp_rate0:\", fp_rate0)\n",
    "print(\"fp_rate1:\", fp_rate1)"
   ]
  },
  {
   "cell_type": "code",
   "execution_count": 20,
   "id": "827fbb7e",
   "metadata": {},
   "outputs": [
    {
     "name": "stdout",
     "output_type": "stream",
     "text": [
      "weighted_tp_rate: 0.6930031446540881\n",
      "weighted_fp_rate: 0.3069968553459119\n"
     ]
    }
   ],
   "source": [
    "weighted_tp_rate = (tp_rate0 + tp_rate1)/2\n",
    "print(\"weighted_tp_rate:\", weighted_tp_rate)\n",
    "\n",
    "weighted_fp_rate = (fp_rate0 + fp_rate1)/2\n",
    "print(\"weighted_fp_rate:\", weighted_fp_rate)"
   ]
  },
  {
   "cell_type": "code",
   "execution_count": 21,
   "id": "9fca33d7",
   "metadata": {},
   "outputs": [],
   "source": [
    "weighted_tp = tp * 0.7\n",
    "weighted_fp = fp * 0.3"
   ]
  },
  {
   "cell_type": "code",
   "execution_count": 22,
   "id": "9bcf229e",
   "metadata": {},
   "outputs": [],
   "source": [
    "weighted_tp_rate = weighted_tp / (weighted_tp + fn)\n",
    "weighted_fp_rate = weighted_fp / (weighted_fp + tn)"
   ]
  },
  {
   "cell_type": "code",
   "execution_count": 23,
   "id": "73e246e5",
   "metadata": {},
   "outputs": [
    {
     "name": "stdout",
     "output_type": "stream",
     "text": [
      "weighted_tp_rate: 0.5384615384615384\n",
      "weighted_fp_rate: 0.08610271903323263\n"
     ]
    }
   ],
   "source": [
    "print(\"weighted_tp_rate:\", weighted_tp_rate)\n",
    "print(\"weighted_fp_rate:\", weighted_fp_rate)"
   ]
  },
  {
   "cell_type": "code",
   "execution_count": null,
   "id": "a0794a7b",
   "metadata": {},
   "outputs": [],
   "source": []
  },
  {
   "cell_type": "code",
   "execution_count": null,
   "id": "e6873974",
   "metadata": {},
   "outputs": [],
   "source": []
  },
  {
   "cell_type": "code",
   "execution_count": null,
   "id": "4b593a0d",
   "metadata": {},
   "outputs": [],
   "source": []
  },
  {
   "cell_type": "code",
   "execution_count": null,
   "id": "14f84ef3",
   "metadata": {},
   "outputs": [],
   "source": []
  }
 ],
 "metadata": {
  "kernelspec": {
   "display_name": "Python 3 (ipykernel)",
   "language": "python",
   "name": "python3"
  },
  "language_info": {
   "codemirror_mode": {
    "name": "ipython",
    "version": 3
   },
   "file_extension": ".py",
   "mimetype": "text/x-python",
   "name": "python",
   "nbconvert_exporter": "python",
   "pygments_lexer": "ipython3",
   "version": "3.9.7"
  }
 },
 "nbformat": 4,
 "nbformat_minor": 5
}
